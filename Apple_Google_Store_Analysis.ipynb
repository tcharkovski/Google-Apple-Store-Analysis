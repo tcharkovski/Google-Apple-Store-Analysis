{
 "cells": [
  {
   "cell_type": "markdown",
   "metadata": {},
   "source": [
    "# Profitable Free Application Recommendation. Analysis of Apple and Google Play Store.\n",
    "The goal of this guided project is to analyse applications on Apple Store and Google Play Store to find out which type of application have the most users and use that information to make a data driven recommendation for developers on the type of applications that would attract more users. (For the purpose of this project I pretend work as a data analyst in a company that creates free android and ios apps.)"
   ]
  },
  {
   "cell_type": "markdown",
   "metadata": {},
   "source": [
    ">Importing the datasets using the `open()` built in function, `reader()` function imported from the `csv` module and the `list()` built in function which creates a list of lists that I can work with."
   ]
  },
  {
   "cell_type": "code",
   "execution_count": 1,
   "metadata": {},
   "outputs": [],
   "source": [
    "opened_1 = open('AppleStore.csv', encoding='utf8')\n",
    "opened_2 = open('googleplaystore.csv', encoding='utf8')\n",
    "from csv import reader\n",
    "read_file1= reader(opened_1)\n",
    "read_file2 = reader(opened_2)\n",
    "ios = list(read_file1)\n",
    "google_play = list(read_file2)"
   ]
  },
  {
   "cell_type": "markdown",
   "metadata": {},
   "source": [
    ">I created a function `explore_data()` which prints the specified part of any datasets of choice along with the number of rows and columns if the `row_and_columns` default argument is set to true."
   ]
  },
  {
   "cell_type": "code",
   "execution_count": 24,
   "metadata": {},
   "outputs": [
    {
     "name": "stdout",
     "output_type": "stream",
     "text": [
      "For Apple Store: \n",
      "['284882215', 'Facebook', '389879808', 'USD', '0.0', '2974676', '212', '3.5', '3.5', '95.0', '4+', 'Social Networking', '37', '1', '29', '1']\n",
      "\n",
      "\n",
      "['389801252', 'Instagram', '113954816', 'USD', '0.0', '2161558', '1289', '4.5', '4.0', '10.23', '12+', 'Photo & Video', '37', '0', '29', '1']\n",
      "\n",
      "\n",
      "Number of rows: 7197\n",
      "Number of columns: 16\n",
      "----------------------------------------------------------------------------\n",
      "For Google Play: \n",
      "['Photo Editor & Candy Camera & Grid & ScrapBook', 'ART_AND_DESIGN', '4.1', '159', '19M', '10,000+', 'Free', '0', 'Everyone', 'Art & Design', 'January 7, 2018', '1.0.0', '4.0.3 and up']\n",
      "\n",
      "\n",
      "['Coloring book moana', 'ART_AND_DESIGN', '3.9', '967', '14M', '500,000+', 'Free', '0', 'Everyone', 'Art & Design;Pretend Play', 'January 15, 2018', '2.0.0', '4.0.3 and up']\n",
      "\n",
      "\n",
      "Number of rows: 10840\n",
      "Number of columns: 13\n",
      "----------------------------------------------------------------------------\n"
     ]
    }
   ],
   "source": [
    "def explore_data(dataset, start, end, rows_and_columns=False):\n",
    "    dataset_slice = dataset[start:end]\n",
    "    for row in dataset_slice:\n",
    "        print(row)\n",
    "        print('\\n')\n",
    "        \n",
    "    if rows_and_columns:\n",
    "        print('Number of rows:', len(dataset))\n",
    "        print('Number of columns:', len(dataset[0]))\n",
    "        print('----------------------------------------------------------------------------')\n",
    "        \n",
    "        \n",
    "print('For Apple Store: ')\n",
    "explore_data(ios[1:], 0, 2, rows_and_columns=True)\n",
    "print('For Google Play: ')\n",
    "explore_data(google_play[1:], 0, 2, rows_and_columns=True)"
   ]
  },
  {
   "cell_type": "markdown",
   "metadata": {},
   "source": [
    "> Here I printed the column names so we know the data_point(element) index."
   ]
  },
  {
   "cell_type": "code",
   "execution_count": 4,
   "metadata": {},
   "outputs": [
    {
     "name": "stdout",
     "output_type": "stream",
     "text": [
      "['id', 'track_name', 'size_bytes', 'currency', 'price', 'rating_count_tot', 'rating_count_ver', 'user_rating', 'user_rating_ver', 'ver', 'cont_rating', 'prime_genre', 'sup_devices.num', 'ipadSc_urls.num', 'lang.num', 'vpp_lic']\n",
      "\n",
      "\n",
      "['App', 'Category', 'Rating', 'Reviews', 'Size', 'Installs', 'Type', 'Price', 'Content Rating', 'Genres', 'Last Updated', 'Current Ver', 'Android Ver']\n"
     ]
    }
   ],
   "source": [
    "ios_column_names = ios[0]\n",
    "google_play_column_names = google_play[0]\n",
    "\n",
    "print(ios_column_names)\n",
    "print('\\n')\n",
    "print(google_play_column_names)"
   ]
  },
  {
   "cell_type": "markdown",
   "metadata": {},
   "source": [
    ">The entry in google_play dataset at row 10473 is wrong data as can be seen after printing it, so I deleted it in the next cell as I want to work with correct data to draw accurate conclusions."
   ]
  },
  {
   "cell_type": "code",
   "execution_count": 5,
   "metadata": {},
   "outputs": [
    {
     "name": "stdout",
     "output_type": "stream",
     "text": [
      "['Life Made WI-Fi Touchscreen Photo Frame', '1.9', '19', '3.0M', '1,000+', 'Free', '0', 'Everyone', '', 'February 11, 2018', '1.0.19', '4.0 and up']\n"
     ]
    }
   ],
   "source": [
    "print(google_play[10473])"
   ]
  },
  {
   "cell_type": "code",
   "execution_count": 6,
   "metadata": {},
   "outputs": [],
   "source": [
    "del google_play[10473] #DO NOT RUN DEL STATEMENT MORE THAN ONCE!"
   ]
  },
  {
   "cell_type": "markdown",
   "metadata": {
    "collapsed": true
   },
   "source": [
    "## Checking for duplicate entries in Apple and Google Stores.\n",
    "**I will print an example of the duplicates and the number of duplicate entries and unique apps.**\n",
    "> I created a function `duplicate_and_unique_entries()` which collects the duplicates and unique apps in the lists; `unique_apps` and `duplicate_apps`, prints the length of both lists and an example of the duplicate app."
   ]
  },
  {
   "cell_type": "code",
   "execution_count": 7,
   "metadata": {},
   "outputs": [
    {
     "name": "stdout",
     "output_type": "stream",
     "text": [
      "For Google Play: \n",
      "Number of duplicate apps:  1181\n",
      "Number of unique apps:  9659\n",
      "\n",
      "\n",
      "Examples of duplicate apps:  ['Quick PDF Scanner + OCR FREE', 'Box', 'Google My Business']\n",
      "--------------------------\n",
      "For ios:\n",
      "Number of duplicate apps:  2\n",
      "Number of unique apps:  7195\n",
      "\n",
      "\n",
      "Examples of duplicate apps:  ['Mannequin Challenge', 'VR Roller Coaster']\n"
     ]
    }
   ],
   "source": [
    "def duplicate_and_unique_entries(dataset, index):\n",
    "    unique_apps = []\n",
    "    duplicate_apps = []\n",
    "    \n",
    "    for apps in dataset:\n",
    "        name = apps[index]\n",
    "        if name in unique_apps:\n",
    "            duplicate_apps.append(name)\n",
    "        else:\n",
    "            unique_apps.append(name)\n",
    "            \n",
    "    print('Number of duplicate apps: ', len(duplicate_apps)) \n",
    "    print('Number of unique apps: ', len(unique_apps))\n",
    "    print('\\n')\n",
    "    print('Examples of duplicate apps: ', duplicate_apps[:3])\n",
    "   \n",
    " \n",
    "print('For Google Play: ')\n",
    "duplicate_and_unique_entries(google_play[1:], 0)\n",
    "print('--------------------------')\n",
    "print('For ios:')\n",
    "duplicate_and_unique_entries(ios[1:], 1)"
   ]
  },
  {
   "cell_type": "markdown",
   "metadata": {},
   "source": [
    ">I printed the occurences where the duplicate app example above occured.(To confirm that it is indeed a duplicate entry)"
   ]
  },
  {
   "cell_type": "code",
   "execution_count": 8,
   "metadata": {},
   "outputs": [
    {
     "name": "stdout",
     "output_type": "stream",
     "text": [
      "For Google Play: \n",
      "['Quick PDF Scanner + OCR FREE', 'BUSINESS', '4.2', '80805', 'Varies with device', '5,000,000+', 'Free', '0', 'Everyone', 'Business', 'February 26, 2018', 'Varies with device', '4.0.3 and up']\n",
      "['Quick PDF Scanner + OCR FREE', 'BUSINESS', '4.2', '80805', 'Varies with device', '5,000,000+', 'Free', '0', 'Everyone', 'Business', 'February 26, 2018', 'Varies with device', '4.0.3 and up']\n",
      "['Quick PDF Scanner + OCR FREE', 'BUSINESS', '4.2', '80804', 'Varies with device', '5,000,000+', 'Free', '0', 'Everyone', 'Business', 'February 26, 2018', 'Varies with device', '4.0.3 and up']\n",
      "\n",
      "\n",
      "For ios: \n",
      "['1173990889', 'Mannequin Challenge', '109705216', 'USD', '0.0', '668', '87', '3.0', '3.0', '1.4', '9+', 'Games', '37', '4', '1', '1']\n",
      "['1178454060', 'Mannequin Challenge', '59572224', 'USD', '0.0', '105', '58', '4.0', '4.5', '1.0.1', '4+', 'Games', '38', '5', '1', '1']\n"
     ]
    }
   ],
   "source": [
    "print('For Google Play: ')\n",
    "for app in google_play[1:]: \n",
    "    name = app[0]\n",
    "    if name == 'Quick PDF Scanner + OCR FREE':\n",
    "        print(app)\n",
    "        \n",
    "        \n",
    "print('\\n')\n",
    "print('For ios: ')\n",
    "for app in ios[1:]:\n",
    "    name = app[1]\n",
    "    if name == 'Mannequin Challenge':\n",
    "        print(app)"
   ]
  },
  {
   "cell_type": "markdown",
   "metadata": {},
   "source": [
    ">From calling the function `duplicate_and_unique_entries()` abobe we can see that the number of unique apps is the same as the expected length of the google and apple dataset(not counting the first row which contains the column names) after subtracting the number of duplicates from the original length of the google play dataset. (just to confirm).\n"
   ]
  },
  {
   "cell_type": "code",
   "execution_count": 9,
   "metadata": {},
   "outputs": [
    {
     "name": "stdout",
     "output_type": "stream",
     "text": [
      "Expected length:  9659\n",
      "Expected length for ios:  7195\n"
     ]
    }
   ],
   "source": [
    "print('Expected length: ', len(google_play[1:]) - 1181)\n",
    "print('Expected length for ios: ', len(ios[1:]) - 2)"
   ]
  },
  {
   "cell_type": "markdown",
   "metadata": {},
   "source": [
    "## Getting the cleaned datasets of Google and Apple Store.\n",
    "> By clean what I mean is that the datasets no longer contain duplicate entries and only one of the duplicates of the most recent entry is added to the list.\n",
    "For that I used dictionaries, lists, if and elif statements and multiple conditions:\n",
    "* First I created a dictionary which contains the applications with their respective ratings or reviews.\n",
    "* Then I looped through the original dataset and for each iteration I checked if the rating or review and the name of the app is not in the dictionary and a list(to keep track of which apps have been added already).\n",
    "* I repeated the same process for the ios apps using different variables.\n",
    "* Printed the lengths of the cleaned datasets to be sure it's the same as the expected lengths after removing the duplicates.\n",
    "Now we have datasets that we can work with going forward. \n"
   ]
  },
  {
   "cell_type": "code",
   "execution_count": 25,
   "metadata": {},
   "outputs": [
    {
     "name": "stdout",
     "output_type": "stream",
     "text": [
      "Length of cleaned google dataset is:  9659\n",
      "-----------------------------------------------------------------------------------------------\n",
      "Length of cleaned  ios dataset is:  7195\n"
     ]
    }
   ],
   "source": [
    "reviews_max = {}\n",
    "for apps in google_play[1:]:\n",
    "    name = apps[0]\n",
    "    n_reviews = float(apps[3])\n",
    "    if name in reviews_max and reviews_max[name] < n_reviews:\n",
    "        reviews_max[name] = n_reviews\n",
    "    elif name not in reviews_max:\n",
    "        reviews_max[name] = n_reviews\n",
    "\n",
    "\n",
    "\n",
    "google_play_cleaned = []\n",
    "already_added = []\n",
    "\n",
    "for app in google_play[1:]:\n",
    "    name = app[0]\n",
    "    n_reviews = float(app[3])\n",
    "    if n_reviews == reviews_max[name] and name not in already_added:\n",
    "        google_play_cleaned.append(app)\n",
    "        already_added.append(name)\n",
    "print('Length of cleaned google dataset is: ', len(reviews_max))\n",
    "\n",
    "print('-----------------------------------------------------------------------------------------------')\n",
    "ios_rating_max = {}\n",
    "for apps in ios[1:]:\n",
    "    name = apps[1]\n",
    "    n_ratings = float(apps[5])\n",
    "    if name in ios_rating_max and ios_rating_max[name] < n_ratings:\n",
    "        ios_rating_max[name] = n_ratings\n",
    "    elif name not in ios_rating_max:\n",
    "        ios_rating_max[name] = n_ratings\n",
    "\n",
    "\n",
    "ios_cleaned = []\n",
    "ios_already_added = []\n",
    "for App in ios[1:]:\n",
    "    app_name = App[1]\n",
    "    N_ratings = float(App[5])\n",
    "    if N_ratings == ios_rating_max[app_name] and app_name not in ios_already_added:\n",
    "        ios_cleaned.append(App)\n",
    "        ios_already_added.append(app_name)\n",
    "print('Length of cleaned  ios dataset is: ', len(ios_cleaned))"
   ]
  },
  {
   "cell_type": "markdown",
   "metadata": {},
   "source": [
    "## Removing non English apps: App targeted at English speaking audience.\n",
    "> Since the recommendation for the application I am going to make is based on english speaking audience only I would have to carry out our analysis without non English apps.\n",
    "Hence the creation of `is_english()` function to check if an app is english or not."
   ]
  },
  {
   "cell_type": "code",
   "execution_count": 11,
   "metadata": {},
   "outputs": [
    {
     "data": {
      "text/plain": [
       "False"
      ]
     },
     "execution_count": 11,
     "metadata": {},
     "output_type": "execute_result"
    }
   ],
   "source": [
    "def is_english(name):\n",
    "    count = 0\n",
    "    for char in name:\n",
    "        if ord(char) > 127:\n",
    "            count += 1\n",
    "            if count > 3:\n",
    "                return False\n",
    "        \n",
    "    return True\n",
    "    \n",
    "is_english('爱奇艺PPS -《欢乐颂2》电视剧热播')"
   ]
  },
  {
   "cell_type": "markdown",
   "metadata": {},
   "source": [
    "> * First I created two lists, one for goole and ios respectively(`google_play_eng_appse` and `app_store_eng_apps`).\n",
    "* Then I looped through the cleaned datasets, and for each iteration I used the `is_english()` function to check if the name of the app is english and if it is then add to the respective list.\n",
    "* I proceeded to print the lengths of the datasets to know how many apps I have left to work with."
   ]
  },
  {
   "cell_type": "code",
   "execution_count": 12,
   "metadata": {},
   "outputs": [
    {
     "name": "stdout",
     "output_type": "stream",
     "text": [
      "The number of apps left in google_play dataset after removing the duplicates and non english apps are:  9614\n",
      "The number of apps left in ios afer removing non english apps are:  6181\n"
     ]
    }
   ],
   "source": [
    "google_play_eng_apps = []\n",
    "app_store_eng_apps = []\n",
    "\n",
    "for app in ios_cleaned:\n",
    "    name = app[1]\n",
    "    if is_english(name):\n",
    "        app_store_eng_apps.append(app)\n",
    "        \n",
    "for app in google_play_cleaned:\n",
    "    name = app[0]\n",
    "    if is_english(name):\n",
    "        google_play_eng_apps.append(app)\n",
    "        \n",
    "print('The number of apps left in google_play dataset after removing the duplicates and non english apps are: ', len(google_play_eng_apps))\n",
    "print('The number of apps left in ios afer removing non english apps are: ', len(app_store_eng_apps))        "
   ]
  },
  {
   "cell_type": "markdown",
   "metadata": {},
   "source": [
    "## Is it free? Taking away paid apps in Apple and Google Stores.\n",
    "> Since the analysis is based specifically on free applications, it would make no sense to include paid apps in our analysis. \n",
    "So again we create new datasets `free_google_apps` and `free_ios_apps` which would only contain apps with the prices of `0.0`"
   ]
  },
  {
   "cell_type": "code",
   "execution_count": 17,
   "metadata": {},
   "outputs": [
    {
     "name": "stdout",
     "output_type": "stream",
     "text": [
      "Google apps left:  8864\n",
      "ios apps left:  3220\n"
     ]
    }
   ],
   "source": [
    "free_google_apps = []\n",
    "free_ios_apps = []\n",
    "\n",
    "for apps in google_play_eng_apps:\n",
    "    price = apps[7]\n",
    "    if price == '0':\n",
    "        free_google_apps.append(apps)\n",
    "\n",
    "for apps in app_store_eng_apps:\n",
    "    price = apps[4]\n",
    "    if price == '0.0':\n",
    "        free_ios_apps.append(apps)\n",
    "\n",
    "print('Google apps left: ', len(free_google_apps))\n",
    "print('ios apps left: ', len(free_ios_apps))\n"
   ]
  },
  {
   "cell_type": "markdown",
   "metadata": {
    "collapsed": true
   },
   "source": [
    "## If it's popular then there is potential for success.\n",
    "### Finding popular applications\n",
    "> In the cell below I created two functions, `freq_table()` and `display_table()`, both takes a dataset and an index as argument, `freq_table()` returns an unsorted frequency table of the genre and the frequency of their apperance in percentage. The `display_table()` function displays in descending order the frequency table."
   ]
  },
  {
   "cell_type": "code",
   "execution_count": 18,
   "metadata": {},
   "outputs": [],
   "source": [
    "def freq_table(dataset, index):\n",
    "    freq_dict = {}\n",
    "    for apps in dataset:\n",
    "        genre = apps[index]\n",
    "        if genre not in freq_dict:\n",
    "            freq_dict[genre] = 1\n",
    "        elif genre in freq_dict:\n",
    "            freq_dict[genre] += 1\n",
    "\n",
    "    for genre in freq_dict:\n",
    "        freq_dict[genre] /= len(dataset)\n",
    "        freq_dict[genre] *= 100\n",
    "    return freq_dict\n",
    "        \n",
    "\n",
    "def display_table(dataset, index):\n",
    "    table = freq_table(dataset, index)\n",
    "    table_display = []\n",
    "    for key in table:\n",
    "        key_value_as_tuple = (table[key], key)\n",
    "        table_display.append(key_value_as_tuple)\n",
    "    \n",
    "    table_sorted = sorted(table_display, reverse = True)\n",
    "    for entry in table_sorted:\n",
    "        print(entry[1], ':',entry[0])\n",
    "\n"
   ]
  },
  {
   "cell_type": "markdown",
   "metadata": {},
   "source": [
    "> The code below prints out the genre that has the highest average ratings in Apple Store.\n",
    "To achieve this:\n",
    "* I created a list and a dictionary (`genres` and `genre_avg_user_ratings` respectively)\n",
    "* Looped through the dictionary generated by calling the `freq_table()` function created earlier.\n",
    "* Extracted the keys (which are the genres in the ios store) and added them to the list.\n",
    "* Looped through the `genres` list created above and for each iteration created two variables `total` and `len_genre` to store the sum of the ratings and number of apps specific to each genre. (This is so that the average for each genre can be calculated.)\n",
    "* Use a nested loop to loop through the `free_ios_app` list and for each iteration  calculated and stored the genre as a key and `average_user_rating` as a value in the `genre_avg_user_ratings` dictionary created earlier.\n",
    "* Since I can't sort a dictionary and a sorted result would make for quick analysis, I created a tuple with the contents of the dictionary,  sorted it in descending order, put it inside a list and displayed it's content"
   ]
  },
  {
   "cell_type": "code",
   "execution_count": 21,
   "metadata": {
    "scrolled": true
   },
   "outputs": [
    {
     "name": "stdout",
     "output_type": "stream",
     "text": [
      "The averager ratings for apps in ios store is: \n",
      "Navigation :  86090.33333333333\n",
      "Reference :  74942.11111111111\n",
      "Social Networking :  71548.34905660378\n",
      "Music :  57326.530303030304\n",
      "Weather :  52279.892857142855\n",
      "Book :  39758.5\n",
      "Food & Drink :  33333.92307692308\n",
      "Finance :  31467.944444444445\n",
      "Photo & Video :  28441.54375\n",
      "Travel :  28243.8\n",
      "Shopping :  26919.690476190477\n",
      "Health & Fitness :  23298.015384615384\n",
      "Sports :  23008.898550724636\n",
      "Games :  22812.92467948718\n",
      "News :  21248.023255813954\n",
      "Productivity :  21028.410714285714\n",
      "Utilities :  18684.456790123455\n",
      "Lifestyle :  16485.764705882353\n",
      "Entertainment :  14029.830708661417\n",
      "Business :  7491.117647058823\n",
      "Education :  7003.983050847458\n",
      "Catalogs :  4004.0\n",
      "Medical :  612.0\n"
     ]
    }
   ],
   "source": [
    "genres = []\n",
    "genre_avg_user_ratings = {}\n",
    "\n",
    "for key in freq_table(free_ios_apps, 11):\n",
    "    genres.append(key)\n",
    "\n",
    "for genre in genres:\n",
    "    total = 0 #stores the sum of the number of ratings specific to each genre\n",
    "    len_genre = 0 #stores the number of apps specific to each genre\n",
    "    for app in free_ios_apps:\n",
    "        genre_app = app[11]\n",
    "        if genre_app == genre:\n",
    "            no_of_user_rating = float(app[5])\n",
    "            total += no_of_user_rating\n",
    "            len_genre += 1\n",
    "    average_user_rating = total / len_genre\n",
    "    genre_avg_user_ratings[genre] = average_user_rating\n",
    "\n",
    "genre_avg_user_ratings_display = []\n",
    "for key in genre_avg_user_ratings:\n",
    "    key_value_as_tuple = (genre_avg_user_ratings[key], key)\n",
    "    genre_avg_user_ratings_display.append(key_value_as_tuple)\n",
    "    \n",
    "genre_avg_user_ratings_display = sorted(genre_avg_user_ratings_display, reverse=True)\n",
    "print('The averager ratings for apps in ios store is: ')\n",
    "for entry in genre_avg_user_ratings_display:\n",
    "    print(entry[1], ': ', entry[0])"
   ]
  },
  {
   "cell_type": "markdown",
   "metadata": {},
   "source": [
    ">The code below prints out the most app by category with the highest average number of installs in Google Play Store in decreasing order."
   ]
  },
  {
   "cell_type": "code",
   "execution_count": 27,
   "metadata": {},
   "outputs": [
    {
     "name": "stdout",
     "output_type": "stream",
     "text": [
      "The average number of installs for each app category in Google Play Store is: \n",
      "COMMUNICATION :  38456119.167247385\n",
      "VIDEO_PLAYERS :  24727872.452830188\n",
      "SOCIAL :  23253652.127118643\n",
      "PHOTOGRAPHY :  17840110.40229885\n",
      "PRODUCTIVITY :  16787331.344927534\n",
      "GAME :  15588015.603248259\n",
      "TRAVEL_AND_LOCAL :  13984077.710144928\n",
      "ENTERTAINMENT :  11640705.88235294\n",
      "TOOLS :  10801391.298666667\n",
      "NEWS_AND_MAGAZINES :  9549178.467741935\n",
      "BOOKS_AND_REFERENCE :  8767811.894736841\n",
      "SHOPPING :  7036877.311557789\n",
      "PERSONALIZATION :  5201482.6122448975\n",
      "WEATHER :  5074486.197183099\n",
      "HEALTH_AND_FITNESS :  4188821.9853479853\n",
      "MAPS_AND_NAVIGATION :  4056941.7741935486\n",
      "FAMILY :  3695641.8198090694\n",
      "SPORTS :  3638640.1428571427\n",
      "ART_AND_DESIGN :  1986335.0877192982\n",
      "FOOD_AND_DRINK :  1924897.7363636363\n",
      "EDUCATION :  1833495.145631068\n",
      "BUSINESS :  1712290.1474201474\n",
      "LIFESTYLE :  1437816.2687861272\n",
      "FINANCE :  1387692.475609756\n",
      "HOUSE_AND_HOME :  1331540.5616438356\n",
      "DATING :  854028.8303030303\n",
      "COMICS :  817657.2727272727\n",
      "AUTO_AND_VEHICLES :  647317.8170731707\n",
      "LIBRARIES_AND_DEMO :  638503.734939759\n",
      "PARENTING :  542603.6206896552\n",
      "BEAUTY :  513151.88679245283\n",
      "EVENTS :  253542.22222222222\n",
      "MEDICAL :  120550.61980830671\n"
     ]
    }
   ],
   "source": [
    "google_app_categories = []\n",
    "google_app_avg_no_installs = {}\n",
    "\n",
    "for key in freq_table(free_google_apps, 1):\n",
    "    google_app_categories.append(key)\n",
    "\n",
    "\n",
    "for category in google_app_categories:\n",
    "    total = 0\n",
    "    len_category = 0\n",
    "    for app in free_google_apps:\n",
    "        category_app = app[1]\n",
    "        if category_app == category:\n",
    "            no_of_installs = app[5]\n",
    "            no_of_installs = no_of_installs.replace('+', '')\n",
    "            no_of_installs = no_of_installs.replace(',', '')\n",
    "            no_of_installs = float(no_of_installs)\n",
    "            total += no_of_installs\n",
    "            len_category += 1\n",
    "    avg_no_installs = total / len_category\n",
    "    google_app_avg_no_installs[category] = avg_no_installs\n",
    "\n",
    "    \n",
    "Google_avg_installs = []\n",
    "for key in google_app_avg_no_installs:\n",
    "    keyValue_as_tuple = (google_app_avg_no_installs[key], key)\n",
    "    Google_avg_installs.append(keyValue_as_tuple)\n",
    "\n",
    "Google_avg_installs = sorted(Google_avg_installs, reverse=True)\n",
    "print(\"The average number of installs for each app category in Google Play Store is: \")\n",
    "for entry in Google_avg_installs:\n",
    "    print(entry[1], ': ', entry[0])"
   ]
  },
  {
   "cell_type": "markdown",
   "metadata": {},
   "source": [
    "From the results of the analysis, the niche seems to be dominated by communication and social application so I recommend a free productive social application with video communication capabilities.\n",
    "\n",
    "It seems that there are a lot of social apps so I suggest building a free learning platform where teachers and students can meet for the purposes of learning, and it should also have video and audio capabilities to facilitate the learning experience."
   ]
  },
  {
   "cell_type": "markdown",
   "metadata": {},
   "source": [
    "# Conclusions\n",
    "In this guided project I analysed the data on Google and Apple Markets with the goal of recommending a free profitable app profile that will be successful in both markets.\n",
    "\n",
    "I concluded that building a productive and social application with video and voice communication capabilites as a learning platform where teachers and students meet. Since the niche in both markets tends towards that area, so combining the functionalities of social and networking apps as well as productive apps is an area worth looking into."
   ]
  }
 ],
 "metadata": {
  "kernelspec": {
   "display_name": "Python 3",
   "language": "python",
   "name": "python3"
  },
  "language_info": {
   "codemirror_mode": {
    "name": "ipython",
    "version": 3
   },
   "file_extension": ".py",
   "mimetype": "text/x-python",
   "name": "python",
   "nbconvert_exporter": "python",
   "pygments_lexer": "ipython3",
   "version": "3.7.6"
  }
 },
 "nbformat": 4,
 "nbformat_minor": 2
}
